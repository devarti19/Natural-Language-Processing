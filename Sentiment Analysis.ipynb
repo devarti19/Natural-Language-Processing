{
 "cells": [
  {
   "cell_type": "code",
   "execution_count": 14,
   "metadata": {},
   "outputs": [
    {
     "name": "stderr",
     "output_type": "stream",
     "text": [
      "[nltk_data] Downloading package vader_lexicon to\n",
      "[nltk_data]     C:\\Users\\91758\\AppData\\Roaming\\nltk_data...\n"
     ]
    },
    {
     "data": {
      "text/plain": [
       "True"
      ]
     },
     "execution_count": 14,
     "metadata": {},
     "output_type": "execute_result"
    }
   ],
   "source": [
    "import nltk\n",
    "nltk.download('vader_lexicon')"
   ]
  },
  {
   "cell_type": "code",
   "execution_count": 1,
   "metadata": {},
   "outputs": [],
   "source": [
    "from nltk.sentiment.vader import SentimentIntensityAnalyzer\n",
    "import pandas as pd\n",
    "import numpy as np"
   ]
  },
  {
   "cell_type": "code",
   "execution_count": 4,
   "metadata": {},
   "outputs": [],
   "source": [
    "fileName = \"sample.csv\"\n",
    "Data = pd.read_csv(fileName,encoding=\"Latin-1\")"
   ]
  },
  {
   "cell_type": "code",
   "execution_count": 6,
   "metadata": {},
   "outputs": [
    {
     "data": {
      "text/html": [
       "<div>\n",
       "<style scoped>\n",
       "    .dataframe tbody tr th:only-of-type {\n",
       "        vertical-align: middle;\n",
       "    }\n",
       "\n",
       "    .dataframe tbody tr th {\n",
       "        vertical-align: top;\n",
       "    }\n",
       "\n",
       "    .dataframe thead th {\n",
       "        text-align: right;\n",
       "    }\n",
       "</style>\n",
       "<table border=\"1\" class=\"dataframe\">\n",
       "  <thead>\n",
       "    <tr style=\"text-align: right;\">\n",
       "      <th></th>\n",
       "      <th>tweet_id</th>\n",
       "      <th>author_id</th>\n",
       "      <th>inbound</th>\n",
       "      <th>created_at</th>\n",
       "      <th>text</th>\n",
       "      <th>response_tweet_id</th>\n",
       "      <th>in_response_to_tweet_id</th>\n",
       "    </tr>\n",
       "  </thead>\n",
       "  <tbody>\n",
       "    <tr>\n",
       "      <th>0</th>\n",
       "      <td>119237</td>\n",
       "      <td>105834</td>\n",
       "      <td>True</td>\n",
       "      <td>Wed Oct 11 06:55:44 +0000 2017</td>\n",
       "      <td>@AppleSupport causing the reply to be disregar...</td>\n",
       "      <td>119236</td>\n",
       "      <td>NaN</td>\n",
       "    </tr>\n",
       "    <tr>\n",
       "      <th>1</th>\n",
       "      <td>119238</td>\n",
       "      <td>ChaseSupport</td>\n",
       "      <td>False</td>\n",
       "      <td>Wed Oct 11 13:25:49 +0000 2017</td>\n",
       "      <td>@105835 Your business means a lot to us. Pleas...</td>\n",
       "      <td>NaN</td>\n",
       "      <td>119239.0</td>\n",
       "    </tr>\n",
       "    <tr>\n",
       "      <th>2</th>\n",
       "      <td>119239</td>\n",
       "      <td>105835</td>\n",
       "      <td>True</td>\n",
       "      <td>Wed Oct 11 13:00:09 +0000 2017</td>\n",
       "      <td>@76328 I really hope you all change but I'm su...</td>\n",
       "      <td>119238</td>\n",
       "      <td>NaN</td>\n",
       "    </tr>\n",
       "    <tr>\n",
       "      <th>3</th>\n",
       "      <td>119240</td>\n",
       "      <td>VirginTrains</td>\n",
       "      <td>False</td>\n",
       "      <td>Tue Oct 10 15:16:08 +0000 2017</td>\n",
       "      <td>@105836 LiveChat is online at the moment - htt...</td>\n",
       "      <td>119241</td>\n",
       "      <td>119242.0</td>\n",
       "    </tr>\n",
       "    <tr>\n",
       "      <th>4</th>\n",
       "      <td>119241</td>\n",
       "      <td>105836</td>\n",
       "      <td>True</td>\n",
       "      <td>Tue Oct 10 15:17:21 +0000 2017</td>\n",
       "      <td>@VirginTrains see attached error message. I've...</td>\n",
       "      <td>119243</td>\n",
       "      <td>119240.0</td>\n",
       "    </tr>\n",
       "  </tbody>\n",
       "</table>\n",
       "</div>"
      ],
      "text/plain": [
       "   tweet_id     author_id  inbound                      created_at  \\\n",
       "0    119237        105834     True  Wed Oct 11 06:55:44 +0000 2017   \n",
       "1    119238  ChaseSupport    False  Wed Oct 11 13:25:49 +0000 2017   \n",
       "2    119239        105835     True  Wed Oct 11 13:00:09 +0000 2017   \n",
       "3    119240  VirginTrains    False  Tue Oct 10 15:16:08 +0000 2017   \n",
       "4    119241        105836     True  Tue Oct 10 15:17:21 +0000 2017   \n",
       "\n",
       "                                                text response_tweet_id  \\\n",
       "0  @AppleSupport causing the reply to be disregar...            119236   \n",
       "1  @105835 Your business means a lot to us. Pleas...               NaN   \n",
       "2  @76328 I really hope you all change but I'm su...            119238   \n",
       "3  @105836 LiveChat is online at the moment - htt...            119241   \n",
       "4  @VirginTrains see attached error message. I've...            119243   \n",
       "\n",
       "   in_response_to_tweet_id  \n",
       "0                      NaN  \n",
       "1                 119239.0  \n",
       "2                      NaN  \n",
       "3                 119242.0  \n",
       "4                 119240.0  "
      ]
     },
     "execution_count": 6,
     "metadata": {},
     "output_type": "execute_result"
    }
   ],
   "source": [
    "Data.head()"
   ]
  },
  {
   "cell_type": "code",
   "execution_count": 11,
   "metadata": {},
   "outputs": [],
   "source": [
    "Data = Data.replace(np.nan,' ',regex=True)\n",
    "sentences = list(Data['text'])"
   ]
  },
  {
   "cell_type": "code",
   "execution_count": 15,
   "metadata": {},
   "outputs": [],
   "source": [
    "sid = SentimentIntensityAnalyzer()\n",
    "sentiments = []\n",
    "for sentence in sentences:\n",
    "    ss = sid.polarity_scores(sentence)\n",
    "    sentiments.append(ss)"
   ]
  },
  {
   "cell_type": "code",
   "execution_count": 16,
   "metadata": {},
   "outputs": [
    {
     "data": {
      "text/plain": [
       "[{'neg': 0.148, 'neu': 0.852, 'pos': 0.0, 'compound': -0.3818},\n",
       " {'neg': 0.0, 'neu': 0.897, 'pos': 0.103, 'compound': 0.3182},\n",
       " {'neg': 0.0, 'neu': 0.713, 'pos': 0.287, 'compound': 0.6839},\n",
       " {'neg': 0.0, 'neu': 1.0, 'pos': 0.0, 'compound': 0.0},\n",
       " {'neg': 0.153, 'neu': 0.847, 'pos': 0.0, 'compound': -0.4019},\n",
       " {'neg': 0.0, 'neu': 1.0, 'pos': 0.0, 'compound': 0.0},\n",
       " {'neg': 0.0, 'neu': 0.896, 'pos': 0.104, 'compound': 0.296},\n",
       " {'neg': 0.0, 'neu': 0.661, 'pos': 0.339, 'compound': 0.6841},\n",
       " {'neg': 0.15, 'neu': 0.804, 'pos': 0.045, 'compound': -0.6124},\n",
       " {'neg': 0.0, 'neu': 1.0, 'pos': 0.0, 'compound': 0.0},\n",
       " {'neg': 0.0, 'neu': 0.899, 'pos': 0.101, 'compound': 0.4019},\n",
       " {'neg': 0.19, 'neu': 0.491, 'pos': 0.319, 'compound': 0.2732},\n",
       " {'neg': 0.109, 'neu': 0.725, 'pos': 0.167, 'compound': 0.1536},\n",
       " {'neg': 0.0, 'neu': 0.643, 'pos': 0.357, 'compound': 0.8779},\n",
       " {'neg': 0.357, 'neu': 0.643, 'pos': 0.0, 'compound': -0.875},\n",
       " {'neg': 0.0, 'neu': 0.855, 'pos': 0.145, 'compound': 0.6588},\n",
       " {'neg': 0.0, 'neu': 0.816, 'pos': 0.184, 'compound': 0.5093},\n",
       " {'neg': 0.0, 'neu': 0.879, 'pos': 0.121, 'compound': 0.4404},\n",
       " {'neg': 0.07, 'neu': 0.93, 'pos': 0.0, 'compound': -0.2244},\n",
       " {'neg': 0.0, 'neu': 0.741, 'pos': 0.259, 'compound': 0.743},\n",
       " {'neg': 0.0, 'neu': 0.23, 'pos': 0.77, 'compound': 0.7717},\n",
       " {'neg': 0.0, 'neu': 0.76, 'pos': 0.24, 'compound': 0.7177},\n",
       " {'neg': 0.0, 'neu': 0.741, 'pos': 0.259, 'compound': 0.6792},\n",
       " {'neg': 0.0, 'neu': 0.655, 'pos': 0.345, 'compound': 0.8588},\n",
       " {'neg': 0.237, 'neu': 0.763, 'pos': 0.0, 'compound': -0.6808},\n",
       " {'neg': 0.118, 'neu': 0.882, 'pos': 0.0, 'compound': -0.296},\n",
       " {'neg': 0.185, 'neu': 0.815, 'pos': 0.0, 'compound': -0.6408},\n",
       " {'neg': 0.0, 'neu': 0.927, 'pos': 0.073, 'compound': 0.2023},\n",
       " {'neg': 0.0, 'neu': 0.881, 'pos': 0.119, 'compound': 0.2263},\n",
       " {'neg': 0.0, 'neu': 0.643, 'pos': 0.357, 'compound': 0.8779},\n",
       " {'neg': 0.1, 'neu': 0.815, 'pos': 0.085, 'compound': -0.1027},\n",
       " {'neg': 0.0, 'neu': 0.67, 'pos': 0.33, 'compound': 0.7506},\n",
       " {'neg': 0.0, 'neu': 1.0, 'pos': 0.0, 'compound': 0.0},\n",
       " {'neg': 0.0, 'neu': 0.683, 'pos': 0.317, 'compound': 0.7783},\n",
       " {'neg': 0.0, 'neu': 1.0, 'pos': 0.0, 'compound': 0.0},\n",
       " {'neg': 0.115, 'neu': 0.75, 'pos': 0.135, 'compound': -0.1217},\n",
       " {'neg': 0.13, 'neu': 0.87, 'pos': 0.0, 'compound': -0.34},\n",
       " {'neg': 0.127, 'neu': 0.674, 'pos': 0.199, 'compound': 0.2263},\n",
       " {'neg': 0.0, 'neu': 1.0, 'pos': 0.0, 'compound': 0.0},\n",
       " {'neg': 0.0, 'neu': 0.824, 'pos': 0.176, 'compound': 0.6767},\n",
       " {'neg': 0.0, 'neu': 1.0, 'pos': 0.0, 'compound': 0.0},\n",
       " {'neg': 0.0, 'neu': 1.0, 'pos': 0.0, 'compound': 0.0},\n",
       " {'neg': 0.0, 'neu': 0.838, 'pos': 0.162, 'compound': 0.4767},\n",
       " {'neg': 0.0, 'neu': 0.827, 'pos': 0.173, 'compound': 0.3182},\n",
       " {'neg': 0.184, 'neu': 0.816, 'pos': 0.0, 'compound': -0.4019},\n",
       " {'neg': 0.0, 'neu': 0.773, 'pos': 0.227, 'compound': 0.6486},\n",
       " {'neg': 0.0, 'neu': 1.0, 'pos': 0.0, 'compound': 0.0},\n",
       " {'neg': 0.0, 'neu': 0.83, 'pos': 0.17, 'compound': 0.5719},\n",
       " {'neg': 0.074, 'neu': 0.926, 'pos': 0.0, 'compound': -0.1531},\n",
       " {'neg': 0.0, 'neu': 1.0, 'pos': 0.0, 'compound': 0.0},\n",
       " {'neg': 0.0, 'neu': 0.928, 'pos': 0.072, 'compound': 0.2144},\n",
       " {'neg': 0.119, 'neu': 0.31, 'pos': 0.571, 'compound': 0.8807},\n",
       " {'neg': 0.286, 'neu': 0.714, 'pos': 0.0, 'compound': -0.8225},\n",
       " {'neg': 0.0, 'neu': 0.643, 'pos': 0.357, 'compound': 0.8779},\n",
       " {'neg': 0.0, 'neu': 0.936, 'pos': 0.064, 'compound': 0.0772},\n",
       " {'neg': 0.0, 'neu': 0.815, 'pos': 0.185, 'compound': 0.6114},\n",
       " {'neg': 0.0, 'neu': 0.64, 'pos': 0.36, 'compound': 0.5229},\n",
       " {'neg': 0.0, 'neu': 0.835, 'pos': 0.165, 'compound': 0.5502},\n",
       " {'neg': 0.0, 'neu': 0.902, 'pos': 0.098, 'compound': 0.3612},\n",
       " {'neg': 0.0, 'neu': 0.806, 'pos': 0.194, 'compound': 0.5916},\n",
       " {'neg': 0.0, 'neu': 0.903, 'pos': 0.097, 'compound': 0.4019},\n",
       " {'neg': 0.368, 'neu': 0.632, 'pos': 0.0, 'compound': -0.5423},\n",
       " {'neg': 0.202, 'neu': 0.602, 'pos': 0.196, 'compound': 0.209},\n",
       " {'neg': 0.0, 'neu': 0.879, 'pos': 0.121, 'compound': 0.4404},\n",
       " {'neg': 0.08, 'neu': 0.603, 'pos': 0.317, 'compound': 0.6915},\n",
       " {'neg': 0.159, 'neu': 0.758, 'pos': 0.083, 'compound': -0.2732},\n",
       " {'neg': 0.0, 'neu': 0.837, 'pos': 0.163, 'compound': 0.6486},\n",
       " {'neg': 0.0, 'neu': 0.732, 'pos': 0.268, 'compound': 0.5106},\n",
       " {'neg': 0.055, 'neu': 0.945, 'pos': 0.0, 'compound': -0.1027},\n",
       " {'neg': 0.0, 'neu': 1.0, 'pos': 0.0, 'compound': 0.0},\n",
       " {'neg': 0.0, 'neu': 1.0, 'pos': 0.0, 'compound': 0.0},\n",
       " {'neg': 0.0, 'neu': 0.73, 'pos': 0.27, 'compound': 0.8126},\n",
       " {'neg': 0.0, 'neu': 1.0, 'pos': 0.0, 'compound': 0.0},\n",
       " {'neg': 0.0, 'neu': 0.776, 'pos': 0.224, 'compound': 0.5994},\n",
       " {'neg': 0.124, 'neu': 0.876, 'pos': 0.0, 'compound': -0.4019},\n",
       " {'neg': 0.0, 'neu': 0.889, 'pos': 0.111, 'compound': 0.4588},\n",
       " {'neg': 0.162, 'neu': 0.838, 'pos': 0.0, 'compound': -0.4019},\n",
       " {'neg': 0.0, 'neu': 0.809, 'pos': 0.191, 'compound': 0.7096},\n",
       " {'neg': 0.155, 'neu': 0.845, 'pos': 0.0, 'compound': -0.296},\n",
       " {'neg': 0.0, 'neu': 0.686, 'pos': 0.314, 'compound': 0.8625},\n",
       " {'neg': 0.218, 'neu': 0.782, 'pos': 0.0, 'compound': -0.6486},\n",
       " {'neg': 0.0, 'neu': 0.904, 'pos': 0.096, 'compound': 0.3736},\n",
       " {'neg': 0.0, 'neu': 1.0, 'pos': 0.0, 'compound': 0.0},\n",
       " {'neg': 0.0, 'neu': 0.774, 'pos': 0.226, 'compound': 0.6767},\n",
       " {'neg': 0.134, 'neu': 0.567, 'pos': 0.3, 'compound': 0.7273},\n",
       " {'neg': 0.0, 'neu': 0.785, 'pos': 0.215, 'compound': 0.6369},\n",
       " {'neg': 0.278, 'neu': 0.722, 'pos': 0.0, 'compound': -0.4019},\n",
       " {'neg': 0.0, 'neu': 0.913, 'pos': 0.087, 'compound': 0.2263},\n",
       " {'neg': 0.164, 'neu': 0.685, 'pos': 0.151, 'compound': -0.0972},\n",
       " {'neg': 0.375, 'neu': 0.625, 'pos': 0.0, 'compound': -0.5574},\n",
       " {'neg': 0.041, 'neu': 0.854, 'pos': 0.105, 'compound': 0.4648},\n",
       " {'neg': 0.074, 'neu': 0.845, 'pos': 0.081, 'compound': 0.049},\n",
       " {'neg': 0.138, 'neu': 0.752, 'pos': 0.11, 'compound': 0.04}]"
      ]
     },
     "execution_count": 16,
     "metadata": {},
     "output_type": "execute_result"
    }
   ],
   "source": [
    "sentiments"
   ]
  },
  {
   "cell_type": "code",
   "execution_count": null,
   "metadata": {},
   "outputs": [],
   "source": []
  }
 ],
 "metadata": {
  "kernelspec": {
   "display_name": "Python 3",
   "language": "python",
   "name": "python3"
  },
  "language_info": {
   "codemirror_mode": {
    "name": "ipython",
    "version": 3
   },
   "file_extension": ".py",
   "mimetype": "text/x-python",
   "name": "python",
   "nbconvert_exporter": "python",
   "pygments_lexer": "ipython3",
   "version": "3.7.3"
  }
 },
 "nbformat": 4,
 "nbformat_minor": 2
}
